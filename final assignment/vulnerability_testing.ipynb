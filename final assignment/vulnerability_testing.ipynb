{
 "cells": [
  {
   "cell_type": "code",
   "execution_count": 2,
   "metadata": {},
   "outputs": [],
   "source": [
    "import matplotlib.pyplot as plt\n",
    "import numpy as np\n",
    "import pandas as pd\n",
    "import seaborn as sns\n",
    "\n",
    "\n",
    "from ema_workbench import load_results\n",
    "from ema_workbench.analysis import prim\n",
    "from custom_problem_formulation_no_RfR import get_model_for_problem_formulation"
   ]
  },
  {
   "cell_type": "code",
   "execution_count": null,
   "metadata": {},
   "outputs": [],
   "source": [
    "# First we test the final policy set, against each scenario, which remained after the PRIM analysis.\n",
    "\n",
    "model, steps = get_model_for_problem_formulation()\n",
    "\n",
    "# final_policies = pd.read_csv('results/final_policies.csv')\n",
    "final_policies = final_policies[[l.name for l in model.levers]]\n",
    "\n",
    "policies = []\n",
    "for idx, row in policies_df.iterrows():\n",
    "    policy_dict = row.to_dict()\n",
    "    policy_name = idx\n",
    "    policies.append(Policy(policy_name, **policy_dict))\n",
    "\n",
    "combined_df = pd.read_csv('results/combined_df.csv')    # NOG genereren\n",
    "scenarios_df = combined_d[[u.name for u in model.uncertainties]]\n",
    "\n",
    "scenarios = []\n",
    "for idx, row in scenarios_df.iterrows():\n",
    "    scenario_dict = row.to_dict()\n",
    "    scenario_name = idx\n",
    "    scenarios.append(Scenario(scenario_name, **scenario_dict))\n"
   ]
  },
  {
   "cell_type": "code",
   "execution_count": null,
   "metadata": {},
   "outputs": [],
   "source": [
    "  elif args.mode == 'vulnerability':\n",
    "\n",
    "        dike_model, planning_steps = get_model_for_problem_formulation('All Dikes')\n",
    "\n",
    "        # ~3-7 policies from final Robustness analysis\n",
    "        policies_df = pd.read_csv('./output/policies__final_set.csv',\n",
    "                                index_col='Policy Name')\n",
    "        policies_df = policies_df[[L.name for L in dike_model.levers]]\n",
    "\n",
    "        policies = []\n",
    "        for name, policy in policies_df.iterrows():\n",
    "            policies.append(Policy(str(name), **policy.to_dict()))\n",
    "\n",
    "        # PRIM-box scenarios from original DFE\n",
    "        scenarios_fn = 'base_case_results__100000_scenarios__prim_filtered.csv'\n",
    "        scenarios_df = pd.read_csv(f'./output/{scenarios_fn}')\n",
    "        scenarios_df = scenarios_df[[U.name for U in dike_model.uncertainties]]\n",
    "\n",
    "        scenarios = []\n",
    "        for name, scenario in scenarios_df.iterrows():\n",
    "            scenarios.append(Scenario(str(name), **scenario.to_dict()))"
   ]
  }
 ],
 "metadata": {
  "kernelspec": {
   "display_name": "MBDM",
   "language": "python",
   "name": "python3"
  },
  "language_info": {
   "codemirror_mode": {
    "name": "ipython",
    "version": 3
   },
   "file_extension": ".py",
   "mimetype": "text/x-python",
   "name": "python",
   "nbconvert_exporter": "python",
   "pygments_lexer": "ipython3",
   "version": "3.8.19"
  }
 },
 "nbformat": 4,
 "nbformat_minor": 2
}
